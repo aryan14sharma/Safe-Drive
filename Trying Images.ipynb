{
 "cells": [
  {
   "cell_type": "code",
   "execution_count": 1,
   "id": "7c698c46",
   "metadata": {},
   "outputs": [
    {
     "name": "stderr",
     "output_type": "stream",
     "text": [
      "Using TensorFlow backend.\n"
     ]
    }
   ],
   "source": [
    "import os\n",
    "import json\n",
    "from keras.models import load_model\n",
    "import pandas as pd\n",
    "import pickle\n",
    "import numpy as np\n",
    "import cv2\n",
    "import shutil\n",
    "import time\n",
    "import tensorflow as tf\n",
    "from keras.preprocessing import image                  \n",
    "from tqdm.notebook import tqdm\n",
    "from PIL import ImageFile                            \n",
    "import matplotlib.pyplot as plt\n",
    "%matplotlib inline"
   ]
  },
  {
   "cell_type": "code",
   "execution_count": 2,
   "id": "83f55a06",
   "metadata": {},
   "outputs": [],
   "source": [
    "BASE_MODEL_PATH = os.path.join(os.getcwd(),\"model\")\n",
    "PREDICT_DIR = os.path.join(\"pred_dir\")\n",
    "PICKLE_DIR = os.path.join(\"pickle_files\")\n",
    "JSON_DIR = os.path.join(os.getcwd(),\"json_files\")"
   ]
  },
  {
   "cell_type": "code",
   "execution_count": 10,
   "id": "c47afd7e",
   "metadata": {},
   "outputs": [],
   "source": [
    "def path_to_tensor(img_path):\n",
    "    # loads RGB image as PIL.Image.Image type\n",
    "    img = image.load_img(img_path, target_size=(64, 64))\n",
    "    # convert PIL.Image.Image type to 3D tensor with shape (224, 224, 3)\n",
    "    x = image.img_to_array(img)\n",
    "    # convert 3D tensor to 4D tensor with shape (1, 224, 224, 3) and return 4D tensor\n",
    "    return np.expand_dims(x, axis=0)"
   ]
  },
  {
   "cell_type": "code",
   "execution_count": 4,
   "id": "4abcc27f",
   "metadata": {},
   "outputs": [
    {
     "name": "stdout",
     "output_type": "stream",
     "text": [
      "Model: \"model_1\"\n",
      "_________________________________________________________________\n",
      "Layer (type)                 Output Shape              Param #   \n",
      "=================================================================\n",
      "input_1 (InputLayer)         (None, None, None, 3)     0         \n",
      "_________________________________________________________________\n",
      "block1_conv1 (Conv2D)        (None, None, None, 64)    1792      \n",
      "_________________________________________________________________\n",
      "block1_conv2 (Conv2D)        (None, None, None, 64)    36928     \n",
      "_________________________________________________________________\n",
      "block1_pool (MaxPooling2D)   (None, None, None, 64)    0         \n",
      "_________________________________________________________________\n",
      "block2_conv1 (Conv2D)        (None, None, None, 128)   73856     \n",
      "_________________________________________________________________\n",
      "block2_conv2 (Conv2D)        (None, None, None, 128)   147584    \n",
      "_________________________________________________________________\n",
      "block2_pool (MaxPooling2D)   (None, None, None, 128)   0         \n",
      "_________________________________________________________________\n",
      "block3_conv1 (Conv2D)        (None, None, None, 256)   295168    \n",
      "_________________________________________________________________\n",
      "block3_conv2 (Conv2D)        (None, None, None, 256)   590080    \n",
      "_________________________________________________________________\n",
      "block3_conv3 (Conv2D)        (None, None, None, 256)   590080    \n",
      "_________________________________________________________________\n",
      "block3_pool (MaxPooling2D)   (None, None, None, 256)   0         \n",
      "_________________________________________________________________\n",
      "block4_conv1 (Conv2D)        (None, None, None, 512)   1180160   \n",
      "_________________________________________________________________\n",
      "block4_conv2 (Conv2D)        (None, None, None, 512)   2359808   \n",
      "_________________________________________________________________\n",
      "block4_conv3 (Conv2D)        (None, None, None, 512)   2359808   \n",
      "_________________________________________________________________\n",
      "block4_pool (MaxPooling2D)   (None, None, None, 512)   0         \n",
      "_________________________________________________________________\n",
      "block5_conv1 (Conv2D)        (None, None, None, 512)   2359808   \n",
      "_________________________________________________________________\n",
      "block5_conv2 (Conv2D)        (None, None, None, 512)   2359808   \n",
      "_________________________________________________________________\n",
      "block5_conv3 (Conv2D)        (None, None, None, 512)   2359808   \n",
      "_________________________________________________________________\n",
      "block5_pool (MaxPooling2D)   (None, None, None, 512)   0         \n",
      "_________________________________________________________________\n",
      "sequential_1 (Sequential)    (None, 10)                5130      \n",
      "=================================================================\n",
      "Total params: 14,719,818\n",
      "Trainable params: 7,084,554\n",
      "Non-trainable params: 7,635,264\n",
      "_________________________________________________________________\n"
     ]
    }
   ],
   "source": [
    "model = load_model(\"C:\\\\Users\\\\ARYAN'S PC\\\\DATA SCIENCE\\\\6th sem Project\\\\DD\\\\model\\\\vgg16_fine_tuned\\\\distracted-07-0.92.hdf5\")\n",
    "model.summary()"
   ]
  },
  {
   "cell_type": "code",
   "execution_count": 5,
   "id": "ec895bde",
   "metadata": {},
   "outputs": [],
   "source": [
    "#to create a human readable and understandable class_name \n",
    "class_name = dict()\n",
    "class_name[\"c0\"] = \"TALKING_ON_PHONE\"\n",
    "class_name[\"c1\"] = \"OPERATING_ON_RADIO\"\n",
    "class_name[\"c2\"] = \"TEXTING_ON_PHONE\"\n",
    "class_name[\"c3\"] = \"TALKING_ON_PHONE\"\n",
    "class_name[\"c4\"] = \"TEXTING_ON_PHONE\"\n",
    "class_name[\"c5\"] = \"HAIR_AND_MAKEUP\"\n",
    "class_name[\"c6\"] = \"SAFE_DRIVING\"\n",
    "class_name[\"c7\"] = \"TALKING_TO_PASSENGER\"\n",
    "class_name[\"c8\"] = \"DRINKING\"\n",
    "class_name[\"c9\"] = \"REACHING_BEHIND\"\n",
    "\n",
    "val=['c0','c1','c2','c3','c4','c5','c6','c7','c8','c9']"
   ]
  },
  {
   "cell_type": "code",
   "execution_count": 31,
   "id": "cffa6a2e",
   "metadata": {},
   "outputs": [
    {
     "name": "stdout",
     "output_type": "stream",
     "text": [
      "SAFE_DRIVING 1 (1).jpg\n",
      "SAFE_DRIVING 1 (2).jpg\n",
      "SAFE_DRIVING 1 (3).jpg\n",
      "SAFE_DRIVING 1 (4).jpg\n",
      "TEXTING_ON_PHONE 1 (5).jpg\n",
      "TEXTING_ON_PHONE 1 (6).jpg\n",
      "TEXTING_ON_PHONE 1 (7).jpg\n",
      "TEXTING_ON_PHONE 1 (8).jpg\n",
      "TEXTING_ON_PHONE 1 (9).jpg\n",
      "TEXTING_ON_PHONE 2 (2).jpg\n",
      "TEXTING_ON_PHONE 2 (3).jpg\n",
      "TEXTING_ON_PHONE 2 (4).jpg\n",
      "TEXTING_ON_PHONE 2 (5).jpg\n",
      "TEXTING_ON_PHONE 2 (6).jpg\n",
      "TEXTING_ON_PHONE 2 (7).jpg\n",
      "TEXTING_ON_PHONE 2 (8).jpg\n",
      "TEXTING_ON_PHONE 2 (9).jpg\n",
      "TEXTING_ON_PHONE 2(91).jpg\n",
      "TEXTING_ON_PHONE 3 (1).jpg\n",
      "TEXTING_ON_PHONE 3 (2).jpg\n",
      "TEXTING_ON_PHONE 3 (3).jpg\n",
      "TEXTING_ON_PHONE 3 (4).jpg\n",
      "TEXTING_ON_PHONE 3 (5).jpg\n",
      "TEXTING_ON_PHONE 3 (6).jpg\n",
      "TEXTING_ON_PHONE 3 (7).jpg\n",
      "TALKING_ON_PHONE 3 (8).jpg\n",
      "TALKING_ON_PHONE 3 (9).jpg\n",
      "TALKING_ON_PHONE 4 (1).jpg\n",
      "TALKING_ON_PHONE 4 (2).jpg\n",
      "TALKING_ON_PHONE 4 (3).jpg\n",
      "TALKING_ON_PHONE 4 (4).jpg\n",
      "TALKING_ON_PHONE 4 (5).jpg\n",
      "TALKING_ON_PHONE 4 (6).jpg\n",
      "TALKING_ON_PHONE 4 (7).jpg\n",
      "TALKING_ON_PHONE 4 (8).jpg\n",
      "TALKING_ON_PHONE 5 (1).jpg\n",
      "TALKING_ON_PHONE 5 (2).jpg\n",
      "TALKING_ON_PHONE 5 (3).jpg\n",
      "TALKING_ON_PHONE 5 (4).jpg\n",
      "TALKING_ON_PHONE 5 (5).jpg\n",
      "TALKING_ON_PHONE 5 (6).jpg\n",
      "TALKING_ON_PHONE 5 (7).jpg\n",
      "OPERATING_ON_RADIO 5 (8).jpg\n",
      "OPERATING_ON_RADIO 5 (9).jpg\n",
      "OPERATING_ON_RADIO 5 (91).jpg\n",
      "OPERATING_ON_RADIO 6 (1).jpg\n",
      "OPERATING_ON_RADIO 6 (2).jpg\n",
      "OPERATING_ON_RADIO 6 (3).jpg\n",
      "OPERATING_ON_RADIO 6 (4).jpg\n",
      "OPERATING_ON_RADIO 6 (5).jpg\n",
      "OPERATING_ON_RADIO 6 (6).jpg\n",
      "OPERATING_ON_RADIO 6 (7).jpg\n",
      "OPERATING_ON_RADIO 6 (8).jpg\n",
      "OPERATING_ON_RADIO 6 (9).jpg\n",
      "OPERATING_ON_RADIO 7 (1).jpg\n",
      "OPERATING_ON_RADIO 7 (2).jpg\n",
      "OPERATING_ON_RADIO 7 (3).jpg\n",
      "REACHING_BEHIND 7 (4).jpg\n",
      "REACHING_BEHIND 7 (5).jpg\n",
      "REACHING_BEHIND 7 (6).jpg\n",
      "REACHING_BEHIND 7 (7).jpg\n",
      "REACHING_BEHIND 7 (8).jpg\n",
      "REACHING_BEHIND 8 (1).jpg\n",
      "REACHING_BEHIND 8 (2).jpg\n",
      "REACHING_BEHIND 8 (3).jpg\n",
      "TALKING_TO_PASSENGER 8 (4).jpg\n",
      "TALKING_TO_PASSENGER 8 (6).jpg\n",
      "TALKING_TO_PASSENGER 8 (7).jpg\n",
      "TALKING_TO_PASSENGER 8 (8).jpg\n",
      "TALKING_TO_PASSENGER 9 (1).jpg\n",
      "TALKING_TO_PASSENGER 9 (2).jpg\n",
      "TALKING_TO_PASSENGER 9 (3).jpg\n",
      "TALKING_TO_PASSENGER 9 (4).jpg\n",
      "TALKING_TO_PASSENGER 9 (5).jpg\n",
      "TALKING_TO_PASSENGER 9 (6).jpg\n",
      "HAIR_AND_MAKEUP 9 (61).jpg\n",
      "HAIR_AND_MAKEUP 9 (7).jpg\n",
      "SAFE_DRIVING 9 (8).jpg\n",
      "SAFE_DRIVING 9 (9).jpg\n",
      "SAFE_DRIVING 9 (91).jpg\n",
      "SAFE_DRIVING 9 (92).jpg\n"
     ]
    }
   ],
   "source": [
    "folder='test/'\n",
    "for filename in os.listdir(folder):\n",
    "    img_add=folder+filename\n",
    "    img=path_to_tensor(img_add)\n",
    "    image_to_show=cv2.imread(img_add)\n",
    "    now=time.time()\n",
    "    prediction=class_name[val[model.predict(img).argmax()]]\n",
    "    cv2.putText(image_to_show,str(prediction),(20,400),\n",
    "    cv2.FONT_HERSHEY_SIMPLEX,1.25,(0,0,255),4)\n",
    "    cv2.imshow(\"Distacted Driver\",image_to_show)\n",
    "    print(str(prediction+\" \"+filename))\n",
    "    key = cv2.waitKey(1)\n",
    "    if key == 27:\n",
    "        break\n",
    " \n",
    "# Closes all the frames\n",
    "cv2.destroyAllWindows()"
   ]
  },
  {
   "cell_type": "code",
   "execution_count": 18,
   "id": "f560aad2",
   "metadata": {},
   "outputs": [
    {
     "name": "stdout",
     "output_type": "stream",
     "text": [
      "<class 'PIL.Image.Image'>\n",
      "<class 'PIL.Image.Image'>\n",
      "(1, 64, 64, 3)\n"
     ]
    }
   ],
   "source": []
  },
  {
   "cell_type": "code",
   "execution_count": 11,
   "id": "b2f5ba83",
   "metadata": {},
   "outputs": [
    {
     "name": "stdout",
     "output_type": "stream",
     "text": [
      "      0\n",
      "0     1\n",
      "1     2\n",
      "2     3\n",
      "3     4\n",
      "4     5\n",
      "..  ...\n",
      "78  158\n",
      "79  159\n",
      "80  160\n",
      "81  161\n",
      "82  162\n",
      "\n",
      "[83 rows x 1 columns]\n"
     ]
    }
   ],
   "source": []
  },
  {
   "cell_type": "code",
   "execution_count": null,
   "id": "0b523f56",
   "metadata": {},
   "outputs": [],
   "source": []
  }
 ],
 "metadata": {
  "kernelspec": {
   "display_name": "Python 3",
   "language": "python",
   "name": "python3"
  },
  "language_info": {
   "codemirror_mode": {
    "name": "ipython",
    "version": 3
   },
   "file_extension": ".py",
   "mimetype": "text/x-python",
   "name": "python",
   "nbconvert_exporter": "python",
   "pygments_lexer": "ipython3",
   "version": "3.7.10"
  }
 },
 "nbformat": 4,
 "nbformat_minor": 5
}
