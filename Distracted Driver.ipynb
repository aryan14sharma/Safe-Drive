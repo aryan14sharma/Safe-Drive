{
 "cells": [
  {
   "cell_type": "code",
   "execution_count": 1,
   "id": "7c698c46",
   "metadata": {},
   "outputs": [
    {
     "name": "stderr",
     "output_type": "stream",
     "text": [
      "Using TensorFlow backend.\n"
     ]
    }
   ],
   "source": [
    "import os\n",
    "import json\n",
    "from keras.models import load_model\n",
    "import pandas as pd\n",
    "import pickle\n",
    "import numpy as np\n",
    "import cv2\n",
    "import shutil\n",
    "import time\n",
    "import tensorflow as tf\n",
    "from keras.preprocessing import image                  \n",
    "from tqdm.notebook import tqdm\n",
    "from PIL import ImageFile                            \n",
    "import matplotlib.pyplot as plt\n",
    "%matplotlib inline"
   ]
  },
  {
   "cell_type": "code",
   "execution_count": 2,
   "id": "c47afd7e",
   "metadata": {},
   "outputs": [],
   "source": [
    "def path_to_tensor(img_path):\n",
    "    # loads RGB image as PIL.Image.Image type\n",
    "    img = image.load_img(img_path, target_size=(64, 64))\n",
    "    # convert PIL.Image.Image type to 3D tensor with shape (224, 224, 3)\n",
    "    x = image.img_to_array(img)\n",
    "    # convert 3D tensor to 4D tensor with shape (1, 224, 224, 3) and return 4D tensor\n",
    "    return np.expand_dims(x, axis=0)"
   ]
  },
  {
   "cell_type": "code",
   "execution_count": 4,
   "id": "4abcc27f",
   "metadata": {},
   "outputs": [
    {
     "name": "stdout",
     "output_type": "stream",
     "text": [
      "Model: \"model_1\"\n",
      "_________________________________________________________________\n",
      "Layer (type)                 Output Shape              Param #   \n",
      "=================================================================\n",
      "input_1 (InputLayer)         (None, None, None, 3)     0         \n",
      "_________________________________________________________________\n",
      "block1_conv1 (Conv2D)        (None, None, None, 64)    1792      \n",
      "_________________________________________________________________\n",
      "block1_conv2 (Conv2D)        (None, None, None, 64)    36928     \n",
      "_________________________________________________________________\n",
      "block1_pool (MaxPooling2D)   (None, None, None, 64)    0         \n",
      "_________________________________________________________________\n",
      "block2_conv1 (Conv2D)        (None, None, None, 128)   73856     \n",
      "_________________________________________________________________\n",
      "block2_conv2 (Conv2D)        (None, None, None, 128)   147584    \n",
      "_________________________________________________________________\n",
      "block2_pool (MaxPooling2D)   (None, None, None, 128)   0         \n",
      "_________________________________________________________________\n",
      "block3_conv1 (Conv2D)        (None, None, None, 256)   295168    \n",
      "_________________________________________________________________\n",
      "block3_conv2 (Conv2D)        (None, None, None, 256)   590080    \n",
      "_________________________________________________________________\n",
      "block3_conv3 (Conv2D)        (None, None, None, 256)   590080    \n",
      "_________________________________________________________________\n",
      "block3_pool (MaxPooling2D)   (None, None, None, 256)   0         \n",
      "_________________________________________________________________\n",
      "block4_conv1 (Conv2D)        (None, None, None, 512)   1180160   \n",
      "_________________________________________________________________\n",
      "block4_conv2 (Conv2D)        (None, None, None, 512)   2359808   \n",
      "_________________________________________________________________\n",
      "block4_conv3 (Conv2D)        (None, None, None, 512)   2359808   \n",
      "_________________________________________________________________\n",
      "block4_pool (MaxPooling2D)   (None, None, None, 512)   0         \n",
      "_________________________________________________________________\n",
      "block5_conv1 (Conv2D)        (None, None, None, 512)   2359808   \n",
      "_________________________________________________________________\n",
      "block5_conv2 (Conv2D)        (None, None, None, 512)   2359808   \n",
      "_________________________________________________________________\n",
      "block5_conv3 (Conv2D)        (None, None, None, 512)   2359808   \n",
      "_________________________________________________________________\n",
      "block5_pool (MaxPooling2D)   (None, None, None, 512)   0         \n",
      "_________________________________________________________________\n",
      "sequential_1 (Sequential)    (None, 10)                5130      \n",
      "=================================================================\n",
      "Total params: 14,719,818\n",
      "Trainable params: 7,084,554\n",
      "Non-trainable params: 7,635,264\n",
      "_________________________________________________________________\n"
     ]
    }
   ],
   "source": [
    "model = load_model(\"model\\\\vgg16_fine_tuned\\\\distracted-07-0.92.hdf5\")\n",
    "model.summary()"
   ]
  },
  {
   "cell_type": "code",
   "execution_count": 5,
   "id": "ec895bde",
   "metadata": {},
   "outputs": [],
   "source": [
    "#to create a human readable and understandable class_name \n",
    "class_name = dict()\n",
    "class_name[\"c0\"] = \"TALKING_ON_PHONE\"\n",
    "class_name[\"c1\"] = \"OPERATING_ON_RADIO\"\n",
    "class_name[\"c2\"] = \"TEXTING_ON_PHONE\"\n",
    "class_name[\"c3\"] = \"TALKING_ON_PHONE\"\n",
    "class_name[\"c4\"] = \"TEXTING_ON_PHONE\"\n",
    "class_name[\"c5\"] = \"HAIR_AND_MAKEUP\"\n",
    "class_name[\"c6\"] = \"SAFE_DRIVING\"\n",
    "class_name[\"c7\"] = \"TALKING_TO_PASSENGER\"\n",
    "class_name[\"c8\"] = \"DRINKING\"\n",
    "class_name[\"c9\"] = \"REACHING_BEHIND\"\n",
    "\n",
    "val=['c0','c1','c2','c3','c4','c5','c6','c7','c8','c9']"
   ]
  },
  {
   "cell_type": "markdown",
   "id": "ef36c15c",
   "metadata": {},
   "source": [
    "# TEST CASE"
   ]
  },
  {
   "cell_type": "code",
   "execution_count": 6,
   "id": "aa891fcd",
   "metadata": {},
   "outputs": [],
   "source": [
    "folder='test/'\n",
    "for filename in os.listdir(folder):\n",
    "    img_add=folder+filename\n",
    "    img=path_to_tensor(img_add)\n",
    "    image_to_show=cv2.imread(img_add)\n",
    "    now=time.time()\n",
    "    cv2.imshow(\"Distacted Driver\",image_to_show)\n",
    "    key = cv2.waitKey(1)\n",
    "    time.sleep(0.5)\n",
    "    if key == 27:\n",
    "        break\n",
    " # Closes all the frames\n",
    "cv2.destroyAllWindows()"
   ]
  },
  {
   "cell_type": "markdown",
   "id": "0ddd14ed",
   "metadata": {},
   "source": [
    "# Output"
   ]
  },
  {
   "cell_type": "code",
   "execution_count": 7,
   "id": "cffa6a2e",
   "metadata": {},
   "outputs": [],
   "source": [
    "folder='test/'\n",
    "for filename in os.listdir(folder):\n",
    "    img_add=folder+filename\n",
    "    img=path_to_tensor(img_add)\n",
    "    image_to_show=cv2.imread(img_add)\n",
    "    now=time.time()\n",
    "    prediction=class_name[val[model.predict(img).argmax()]]\n",
    "    cv2.putText(image_to_show,str(prediction),(20,400),\n",
    "    cv2.FONT_HERSHEY_SIMPLEX,1.25,(0,0,255),4)\n",
    "    cv2.imshow(\"Distacted Driver\",image_to_show)\n",
    "    time.sleep(0.5)\n",
    "    key = cv2.waitKey(1)\n",
    "    if key == 27:\n",
    "        break\n",
    " # Closes all the frames\n",
    "cv2.destroyAllWindows()"
   ]
  },
  {
   "cell_type": "code",
   "execution_count": null,
   "id": "8b9b0850",
   "metadata": {},
   "outputs": [],
   "source": []
  },
  {
   "cell_type": "code",
   "execution_count": null,
   "id": "3f202912",
   "metadata": {},
   "outputs": [],
   "source": []
  }
 ],
 "metadata": {
  "kernelspec": {
   "display_name": "Python 3",
   "language": "python",
   "name": "python3"
  },
  "language_info": {
   "codemirror_mode": {
    "name": "ipython",
    "version": 3
   },
   "file_extension": ".py",
   "mimetype": "text/x-python",
   "name": "python",
   "nbconvert_exporter": "python",
   "pygments_lexer": "ipython3",
   "version": "3.7.10"
  }
 },
 "nbformat": 4,
 "nbformat_minor": 5
}
